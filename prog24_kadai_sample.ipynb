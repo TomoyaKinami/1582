{
 "cells": [
  {
   "cell_type": "markdown",
   "id": "8ddd0a46",
   "metadata": {},
   "source": [
    "## 講義（後期，第１０回）レポート<br>学籍番号：8921〇〇〇　氏名：〇〇　〇〇"
   ]
  },
  {
   "cell_type": "markdown",
   "id": "076723a2",
   "metadata": {},
   "source": [
    "## 次の問に答えよ．ただし，全ての問において，入力したプログラムを自身で実行し，<span style=\"color: blue; \">実行によって出力される表示結果も必ず残したままにすること</span>．今回の問は，全て解答必須の課題とする．<br><br>課題へ取り組む前に，以下の Code セルを実行すること．"
   ]
  },
  {
   "cell_type": "code",
   "execution_count": 1,
   "id": "6008cd4f",
   "metadata": {},
   "outputs": [],
   "source": [
    "import random\n",
    "\n",
    "%matplotlib inline\n",
    "import matplotlib.pyplot as plt\n",
    "\n",
    "import statistics"
   ]
  },
  {
   "cell_type": "markdown",
   "id": "43dc4b03",
   "metadata": {},
   "source": [
    "## 問１．以下の設定で，豚汁（6 人分）の材料費を事前に見積もりたい．豚汁の材料のうち，肉，味噌，ゴボウの値段は，右図で与えられた確率分布の下で決まるとする．"
   ]
  },
  {
   "cell_type": "code",
   "execution_count": 2,
   "id": "5a53e73f",
   "metadata": {},
   "outputs": [
    {
     "data": {
      "text/html": [
       "<img src=\"https://www.rs.tus.ac.jp/yenatsu/idm2021prog/miso.jpg\"/>"
      ],
      "text/plain": [
       "<IPython.core.display.Image object>"
      ]
     },
     "execution_count": 2,
     "metadata": {},
     "output_type": "execute_result"
    }
   ],
   "source": [
    "from IPython.display import Image\n",
    "Image(url= 'https://www.rs.tus.ac.jp/yenatsu/idm2021prog/miso.jpg')"
   ]
  },
  {
   "cell_type": "markdown",
   "id": "06ca38c7",
   "metadata": {},
   "source": [
    "## このとき，次の問に答えよ．<br><br>（１）講義ノート内の Step 3 に倣って，肉，味噌，ゴボウの値段と確率分布を引数として豚汁の費用のサンプル値を与える関数 Misocost() を定義せよ．"
   ]
  },
  {
   "cell_type": "code",
   "execution_count": null,
   "id": "89562c59",
   "metadata": {},
   "outputs": [],
   "source": [
    "# （１）の入力欄\n",
    "\n",
    "def Misocost(x1, P1, x2, P2, x3, P3):\n",
    "    ...\n",
    "    w = ...\n",
    "    return w"
   ]
  },
  {
   "cell_type": "markdown",
   "id": "bbcf507c",
   "metadata": {},
   "source": [
    "## （２）... 部を埋める形で，上記画像の設定に沿った３つの材料の値段と確率分布から成る６つの引数を関数 Misocost() を代入したときの実行結果を表示せよ．"
   ]
  },
  {
   "cell_type": "code",
   "execution_count": null,
   "id": "a244f7ac",
   "metadata": {},
   "outputs": [],
   "source": [
    "# （２）の入力欄\n",
    "\n",
    "### 肉，味噌，ゴボウの値段と確率分布に対応する６つのリストの定義 ###\n",
    "x = [100, 120, 140]\n",
    "Px = [0.30, 0.55, 0.15]\n",
    "...\n",
    "Pz = ...\n",
    "\n",
    "### 上記６つのリストを関数 Misocost() に引数として代入し，実行 ###\n",
    "Misocost(...)"
   ]
  },
  {
   "cell_type": "markdown",
   "id": "bdad6043",
   "metadata": {},
   "source": [
    "## （３）講義ノート最下部のプログラムに倣って，関数 Misocost() を用いて，豚汁の費用のサンプル値 w を記録するリストを costs として，関数 Misocost() を 100,000 回呼び出して w を記録せよ．その後，費用の分布の平均・分散とヒストグラムも与えよ．必要に応じて，複数の Code セルを用いて良い．なお，豚汁の英訳は「miso soup with pork and vegetables」である．"
   ]
  },
  {
   "cell_type": "code",
   "execution_count": null,
   "id": "5bfe933b",
   "metadata": {},
   "outputs": [],
   "source": [
    "# （３）の入力欄\n",
    "\n",
    "### 関数 Misocost() を用いて，豚汁の費用のサンプル値 w を記録するリスト costs を作成 ###\n",
    "\n",
    "\n",
    "### 平均と分散の計算＆表示 ###\n",
    "\n",
    "\n",
    "### ヒストグラム描画 ###\n",
    "\n"
   ]
  }
 ],
 "metadata": {
  "kernelspec": {
   "display_name": "Python 3",
   "language": "python",
   "name": "python3"
  },
  "language_info": {
   "codemirror_mode": {
    "name": "ipython",
    "version": 3
   },
   "file_extension": ".py",
   "mimetype": "text/x-python",
   "name": "python",
   "nbconvert_exporter": "python",
   "pygments_lexer": "ipython3",
   "version": "3.8.8"
  }
 },
 "nbformat": 4,
 "nbformat_minor": 5
}
